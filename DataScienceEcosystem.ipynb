{
  "nbformat": 4,
  "nbformat_minor": 0,
  "metadata": {
    "colab": {
      "provenance": [],
      "authorship_tag": "ABX9TyNxz1TIbrLjMo8idykEIBr9",
      "include_colab_link": true
    },
    "kernelspec": {
      "name": "python3",
      "display_name": "Python 3"
    },
    "language_info": {
      "name": "python"
    }
  },
  "cells": [
    {
      "cell_type": "markdown",
      "metadata": {
        "id": "view-in-github",
        "colab_type": "text"
      },
      "source": [
        "<a href=\"https://colab.research.google.com/github/23martinjr/1st-year-DATA-SCIENCE-Projects/blob/main/DataScienceEcosystem.ipynb\" target=\"_parent\"><img src=\"https://colab.research.google.com/assets/colab-badge.svg\" alt=\"Open In Colab\"/></a>"
      ]
    },
    {
      "cell_type": "markdown",
      "source": [
        "#Data Science Tools and Ecosystem"
      ],
      "metadata": {
        "id": "WGaR8SB5XUMP"
      }
    },
    {
      "cell_type": "markdown",
      "source": [
        "In this notebook, Data Science Tools and Ecosystem are summarized.\n"
      ],
      "metadata": {
        "id": "rKUU-q6UXayY"
      }
    },
    {
      "cell_type": "markdown",
      "source": [
        "**Objectives**:\n",
        "* Popular Data Science Languages\n",
        "* Popular Data Science Libraries\n",
        "* Data Science tools: Code/Markdowns, arithmetic, and Tables in python/Jupyter/Google Collab\n"
      ],
      "metadata": {
        "id": "KobyHn5BiVKj"
      }
    },
    {
      "cell_type": "markdown",
      "source": [
        "Some of the popular languages that Data Scientists use are:\n",
        "1. Python\n",
        "2. R\n",
        "3. SQL\n",
        "4. Java"
      ],
      "metadata": {
        "id": "VmvOQFOUXxMc"
      }
    },
    {
      "cell_type": "markdown",
      "source": [
        "Some of the commonly used libraries used by Data Scientists include:\n",
        "1. NumPy\n",
        "2. Kera\n",
        "3. Pandas\n",
        "4. PyTorch\n",
        "5. TensorFlow"
      ],
      "metadata": {
        "id": "__mVZ3WOYGCT"
      }
    },
    {
      "cell_type": "markdown",
      "source": [
        "|Data Science Tools|\n",
        "-------------------\n",
        "|Jupyter Notebooks|\n",
        "|R-Studio|\n",
        "|Visual Studio Code|\n"
      ],
      "metadata": {
        "id": "pPmhFYSYaGCw"
      }
    },
    {
      "cell_type": "markdown",
      "source": [
        "###Below are a few examples of evaluating arithmetic expressions in Python"
      ],
      "metadata": {
        "id": "0sseCk5HeWGs"
      }
    },
    {
      "cell_type": "code",
      "source": [
        "#This a simple arithmetic expression to mutiply then add integers\n",
        "I=(3*4)+5\n",
        "print(I)\n",
        "\n",
        "#or\n",
        "x=3\n",
        "y=4\n",
        "z=5\n",
        "I=(x*y)+z\n",
        "print(I)\n",
        "\n",
        "\n"
      ],
      "metadata": {
        "colab": {
          "base_uri": "https://localhost:8080/"
        },
        "id": "TyoJtEVZf66t",
        "outputId": "1859a15e-ecad-44e2-a2a9-87f1c889f89c"
      },
      "execution_count": 5,
      "outputs": [
        {
          "output_type": "stream",
          "name": "stdout",
          "text": [
            "17\n",
            "17\n"
          ]
        }
      ]
    },
    {
      "cell_type": "code",
      "source": [
        "#This will convert 200 minutes to hours by diving by 60.\n",
        "m=200\n",
        "H=m/60\n",
        "print(H)"
      ],
      "metadata": {
        "colab": {
          "base_uri": "https://localhost:8080/"
        },
        "id": "l1kmDPA_gc8f",
        "outputId": "f3f2b277-a3cb-480f-eb34-790e37a1334d"
      },
      "execution_count": 7,
      "outputs": [
        {
          "output_type": "stream",
          "name": "stdout",
          "text": [
            "3.3333333333333335\n"
          ]
        }
      ]
    },
    {
      "cell_type": "markdown",
      "source": [
        "##Author\n",
        "*Martin Ramirez Z.*"
      ],
      "metadata": {
        "id": "rO5qVv6IkJJs"
      }
    }
  ]
}